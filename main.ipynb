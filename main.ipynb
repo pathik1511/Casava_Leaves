{
 "cells": [
  {
   "cell_type": "code",
   "execution_count": 1,
   "metadata": {
    "_cell_guid": "79c7e3d0-c299-4dcb-8224-4455121ee9b0",
    "_uuid": "d629ff2d2480ee46fbb7e2d37f6b5fab8052498a",
    "execution": {
     "iopub.execute_input": "2021-01-27T16:48:12.877746Z",
     "iopub.status.busy": "2021-01-27T16:48:12.877201Z",
     "iopub.status.idle": "2021-01-27T16:48:18.864138Z",
     "shell.execute_reply": "2021-01-27T16:48:18.862860Z"
    },
    "papermill": {
     "duration": 6.004842,
     "end_time": "2021-01-27T16:48:18.864246",
     "exception": false,
     "start_time": "2021-01-27T16:48:12.859404",
     "status": "completed"
    },
    "tags": []
   },
   "outputs": [
    {
     "name": "stdout",
     "output_type": "stream",
     "text": [
      "2.4.3\n"
     ]
    }
   ],
   "source": [
    "import pandas as pd\n",
    "import os\n",
    "import cv2\n",
    "from PIL import Image\n",
    "import keras\n",
    "from sklearn.model_selection import train_test_split\n",
    "from sklearn.metrics import accuracy_score\n",
    "import tensorflow as tf\n",
    "from tensorflow.keras import models, layers\n",
    "from tensorflow.keras.preprocessing import image\n",
    "from tensorflow.keras.preprocessing.image import ImageDataGenerator\n",
    "from tensorflow.keras.callbacks import ModelCheckpoint, EarlyStopping, ReduceLROnPlateau\n",
    "from tensorflow.keras.applications import Xception\n",
    "from tensorflow.keras.optimizers import Adam\n",
    "from keras.models import model_from_json"
   ]
  },
  {
   "cell_type": "code",
   "execution_count": 2,
   "metadata": {
    "execution": {
     "iopub.execute_input": "2021-01-27T16:48:18.888198Z",
     "iopub.status.busy": "2021-01-27T16:48:18.886480Z",
     "iopub.status.idle": "2021-01-27T16:48:18.888802Z",
     "shell.execute_reply": "2021-01-27T16:48:18.889218Z"
    },
    "papermill": {
     "duration": 0.015877,
     "end_time": "2021-01-27T16:48:18.889322",
     "exception": false,
     "start_time": "2021-01-27T16:48:18.873445",
     "status": "completed"
    },
    "tags": []
   },
   "outputs": [],
   "source": [
    "input_dir = \"../input/cassava-leaf-disease-classification\"\n",
    "trainImages = os.path.join(input_dir,\"trainImages\")\n",
    "testImages = os.path.join(input_dir,'testImages')"
   ]
  },
  {
   "cell_type": "code",
   "execution_count": 3,
   "metadata": {
    "execution": {
     "iopub.execute_input": "2021-01-27T16:48:18.914887Z",
     "iopub.status.busy": "2021-01-27T16:48:18.914375Z",
     "iopub.status.idle": "2021-01-27T16:48:18.958667Z",
     "shell.execute_reply": "2021-01-27T16:48:18.958223Z"
    },
    "papermill": {
     "duration": 0.061001,
     "end_time": "2021-01-27T16:48:18.958787",
     "exception": false,
     "start_time": "2021-01-27T16:48:18.897786",
     "status": "completed"
    },
    "tags": []
   },
   "outputs": [
    {
     "data": {
      "text/html": [
       "<div>\n",
       "<style scoped>\n",
       "    .dataframe tbody tr th:only-of-type {\n",
       "        vertical-align: middle;\n",
       "    }\n",
       "\n",
       "    .dataframe tbody tr th {\n",
       "        vertical-align: top;\n",
       "    }\n",
       "\n",
       "    .dataframe thead th {\n",
       "        text-align: right;\n",
       "    }\n",
       "</style>\n",
       "<table border=\"1\" class=\"dataframe\">\n",
       "  <thead>\n",
       "    <tr style=\"text-align: right;\">\n",
       "      <th></th>\n",
       "      <th>image_id</th>\n",
       "      <th>label</th>\n",
       "    </tr>\n",
       "  </thead>\n",
       "  <tbody>\n",
       "    <tr>\n",
       "      <th>0</th>\n",
       "      <td>1000015157.jpg</td>\n",
       "      <td>0</td>\n",
       "    </tr>\n",
       "    <tr>\n",
       "      <th>1</th>\n",
       "      <td>1000201771.jpg</td>\n",
       "      <td>3</td>\n",
       "    </tr>\n",
       "    <tr>\n",
       "      <th>2</th>\n",
       "      <td>100042118.jpg</td>\n",
       "      <td>1</td>\n",
       "    </tr>\n",
       "    <tr>\n",
       "      <th>3</th>\n",
       "      <td>1000723321.jpg</td>\n",
       "      <td>1</td>\n",
       "    </tr>\n",
       "    <tr>\n",
       "      <th>4</th>\n",
       "      <td>1000812911.jpg</td>\n",
       "      <td>3</td>\n",
       "    </tr>\n",
       "  </tbody>\n",
       "</table>\n",
       "</div>"
      ],
      "text/plain": [
       "         image_id  label\n",
       "0  1000015157.jpg      0\n",
       "1  1000201771.jpg      3\n",
       "2   100042118.jpg      1\n",
       "3  1000723321.jpg      1\n",
       "4  1000812911.jpg      3"
      ]
     },
     "execution_count": 3,
     "metadata": {},
     "output_type": "execute_result"
    }
   ],
   "source": [
    "train = pd.read_csv('../input/cassava-leaf-disease-classification/train.csv')\n",
    "train.head()"
   ]
  },
  {
   "cell_type": "code",
   "execution_count": 4,
   "metadata": {
    "execution": {
     "iopub.execute_input": "2021-01-27T16:48:18.983462Z",
     "iopub.status.busy": "2021-01-27T16:48:18.982727Z",
     "iopub.status.idle": "2021-01-27T16:48:18.985151Z",
     "shell.execute_reply": "2021-01-27T16:48:18.985640Z"
    },
    "papermill": {
     "duration": 0.017255,
     "end_time": "2021-01-27T16:48:18.985740",
     "exception": false,
     "start_time": "2021-01-27T16:48:18.968485",
     "status": "completed"
    },
    "tags": []
   },
   "outputs": [],
   "source": [
    "image_list = train['image_id'].to_list()\n",
    "label_list = train['label'].to_list()"
   ]
  },
  {
   "cell_type": "code",
   "execution_count": 5,
   "metadata": {
    "execution": {
     "iopub.execute_input": "2021-01-27T16:48:19.040999Z",
     "iopub.status.busy": "2021-01-27T16:48:19.039301Z",
     "iopub.status.idle": "2021-01-27T16:48:19.042363Z",
     "shell.execute_reply": "2021-01-27T16:48:19.042764Z"
    },
    "papermill": {
     "duration": 0.048008,
     "end_time": "2021-01-27T16:48:19.042875",
     "exception": false,
     "start_time": "2021-01-27T16:48:18.994867",
     "status": "completed"
    },
    "tags": []
   },
   "outputs": [],
   "source": [
    "BATCH_SIZE =8 #Mini-Batch Gradient Descent\n",
    "STEPS_PER_EPOCH = len(train)*0.8 / BATCH_SIZE #0.8\n",
    "VALIDATION_STEPS = len(train)*0.2 / BATCH_SIZE\n",
    "EPOCHS = 20 #10\n",
    "TARGET_SIZE = 350  #350\n",
    "train.label = train.label.astype('str')\n",
    "\n",
    "\n",
    "train_data_generator = ImageDataGenerator(\n",
    "    rotation_range=10,  # randomly rotate images in the range (degrees, 0 to 180)\n",
    "    zoom_range = 0.1, # Randomly zoom image \n",
    "    width_shift_range=0.2,  # randomly shift images horizontally (fraction of total width)\n",
    "    height_shift_range=0.2,  # randomly shift images vertically (fraction of total height)\n",
    "    horizontal_flip=True,  # randomly flip images\n",
    "    validation_split=0.2\n",
    ")\n",
    "validation_datagen = ImageDataGenerator(validation_split = 0.2)"
   ]
  },
  {
   "cell_type": "code",
   "execution_count": 6,
   "metadata": {
    "execution": {
     "iopub.execute_input": "2021-01-27T16:48:19.070098Z",
     "iopub.status.busy": "2021-01-27T16:48:19.069283Z",
     "iopub.status.idle": "2021-01-27T16:48:38.933629Z",
     "shell.execute_reply": "2021-01-27T16:48:38.934235Z"
    },
    "papermill": {
     "duration": 19.881832,
     "end_time": "2021-01-27T16:48:38.934513",
     "exception": false,
     "start_time": "2021-01-27T16:48:19.052681",
     "status": "completed"
    },
    "tags": []
   },
   "outputs": [
    {
     "name": "stdout",
     "output_type": "stream",
     "text": [
      "Found 17118 validated image filenames belonging to 5 classes.\n",
      "Found 4279 validated image filenames belonging to 5 classes.\n"
     ]
    }
   ],
   "source": [
    "train_generator = train_data_generator.flow_from_dataframe(train,\n",
    "                         directory = os.path.join('../input/cassava-leaf-disease-classification/train_images'),\n",
    "                         subset = \"training\",\n",
    "                         x_col = \"image_id\",\n",
    "                         y_col = \"label\",\n",
    "                         target_size = (TARGET_SIZE, TARGET_SIZE),\n",
    "                         batch_size = BATCH_SIZE,\n",
    "                         class_mode = \"sparse\",\n",
    "                         shuffle= True)\n",
    "\n",
    "\n",
    "validation_generator = validation_datagen.flow_from_dataframe(train,\n",
    "                         directory = os.path.join('../input/cassava-leaf-disease-classification/train_images'),\n",
    "                         subset = \"validation\",\n",
    "                         x_col = \"image_id\",\n",
    "                         y_col = \"label\",\n",
    "                         target_size = (TARGET_SIZE, TARGET_SIZE),\n",
    "                         batch_size = BATCH_SIZE,\n",
    "                         class_mode = \"sparse\")"
   ]
  },
  {
   "cell_type": "code",
   "execution_count": 7,
   "metadata": {
    "execution": {
     "iopub.execute_input": "2021-01-27T16:48:38.963893Z",
     "iopub.status.busy": "2021-01-27T16:48:38.963150Z",
     "iopub.status.idle": "2021-01-27T16:48:38.966313Z",
     "shell.execute_reply": "2021-01-27T16:48:38.965813Z"
    },
    "papermill": {
     "duration": 0.020156,
     "end_time": "2021-01-27T16:48:38.966401",
     "exception": false,
     "start_time": "2021-01-27T16:48:38.946245",
     "status": "completed"
    },
    "tags": []
   },
   "outputs": [],
   "source": [
    "def create_model():\n",
    "    conv_base = Xception(include_top=False, input_tensor=None,weights=\"../input/inceptionresnetv2/xception_tf_notop.h5\",\n",
    "    pooling=None, input_shape=(TARGET_SIZE, TARGET_SIZE, 3), classifier_activation='softmax')\n",
    "                               \n",
    "    model = conv_base.output\n",
    "    model = layers.GlobalAveragePooling2D()(model)\n",
    "    model = layers.Dense(5, activation = \"softmax\")(model)\n",
    "    model = models.Model(conv_base.input, model)\n",
    "\n",
    "    model.compile(optimizer = Adam(lr = 0.0001),\n",
    "                  loss = \"sparse_categorical_crossentropy\",\n",
    "                  metrics = [\"acc\"])\n",
    "    return model"
   ]
  },
  {
   "cell_type": "code",
   "execution_count": 8,
   "metadata": {
    "execution": {
     "iopub.execute_input": "2021-01-27T16:48:38.990646Z",
     "iopub.status.busy": "2021-01-27T16:48:38.990105Z",
     "iopub.status.idle": "2021-01-27T16:48:45.510625Z",
     "shell.execute_reply": "2021-01-27T16:48:45.509952Z"
    },
    "papermill": {
     "duration": 6.534233,
     "end_time": "2021-01-27T16:48:45.510746",
     "exception": false,
     "start_time": "2021-01-27T16:48:38.976513",
     "status": "completed"
    },
    "tags": []
   },
   "outputs": [],
   "source": [
    "model = create_model()"
   ]
  },
  {
   "cell_type": "code",
   "execution_count": 9,
   "metadata": {
    "execution": {
     "iopub.execute_input": "2021-01-27T16:48:45.538289Z",
     "iopub.status.busy": "2021-01-27T16:48:45.536522Z",
     "iopub.status.idle": "2021-01-27T16:48:45.538903Z",
     "shell.execute_reply": "2021-01-27T16:48:45.539326Z"
    },
    "papermill": {
     "duration": 0.017963,
     "end_time": "2021-01-27T16:48:45.539434",
     "exception": false,
     "start_time": "2021-01-27T16:48:45.521471",
     "status": "completed"
    },
    "tags": []
   },
   "outputs": [],
   "source": [
    "model_save = ModelCheckpoint('submission.csv', \n",
    "                              save_best_only = True, \n",
    "                              save_weights_only = True,\n",
    "                              monitor = 'val_loss', \n",
    "                              mode = 'min', verbose = 1)\n"
   ]
  },
  {
   "cell_type": "code",
   "execution_count": 10,
   "metadata": {
    "execution": {
     "iopub.execute_input": "2021-01-27T16:48:45.567957Z",
     "iopub.status.busy": "2021-01-27T16:48:45.567263Z",
     "iopub.status.idle": "2021-01-27T18:33:33.678910Z",
     "shell.execute_reply": "2021-01-27T18:33:33.678236Z"
    },
    "papermill": {
     "duration": 6288.129135,
     "end_time": "2021-01-27T18:33:33.679085",
     "exception": false,
     "start_time": "2021-01-27T16:48:45.549950",
     "status": "completed"
    },
    "tags": []
   },
   "outputs": [
    {
     "name": "stdout",
     "output_type": "stream",
     "text": [
      "Epoch 1/20\n",
      "2140/2139 [==============================] - ETA: 0s - loss: 0.6095 - acc: 0.7888\n",
      "Epoch 00001: val_loss improved from inf to 0.47915, saving model to submission.csv\n",
      "2140/2139 [==============================] - 944s 441ms/step - loss: 0.6095 - acc: 0.7888 - val_loss: 0.4791 - val_acc: 0.8376\n",
      "Epoch 2/20\n",
      "2140/2139 [==============================] - ETA: 0s - loss: 0.4389 - acc: 0.8502\n",
      "Epoch 00002: val_loss improved from 0.47915 to 0.47438, saving model to submission.csv\n",
      "2140/2139 [==============================] - 867s 405ms/step - loss: 0.4389 - acc: 0.8502 - val_loss: 0.4744 - val_acc: 0.8474\n",
      "Epoch 3/20\n",
      "2140/2139 [==============================] - ETA: 0s - loss: 0.3760 - acc: 0.8698\n",
      "Epoch 00003: val_loss did not improve from 0.47438\n",
      "2140/2139 [==============================] - 875s 409ms/step - loss: 0.3760 - acc: 0.8698 - val_loss: 0.5722 - val_acc: 0.8217\n",
      "Epoch 4/20\n",
      "2140/2139 [==============================] - ETA: 0s - loss: 0.3126 - acc: 0.8917\n",
      "Epoch 00004: val_loss did not improve from 0.47438\n",
      "\n",
      "Epoch 00004: ReduceLROnPlateau reducing learning rate to 2.9999999242136255e-05.\n",
      "2140/2139 [==============================] - 884s 413ms/step - loss: 0.3126 - acc: 0.8917 - val_loss: 0.4771 - val_acc: 0.8542\n",
      "Epoch 5/20\n",
      "2140/2139 [==============================] - ETA: 0s - loss: 0.1864 - acc: 0.9360\n",
      "Epoch 00005: val_loss did not improve from 0.47438\n",
      "2140/2139 [==============================] - 894s 418ms/step - loss: 0.1864 - acc: 0.9360 - val_loss: 0.5506 - val_acc: 0.8518\n",
      "Epoch 6/20\n",
      "2140/2139 [==============================] - ETA: 0s - loss: 0.1401 - acc: 0.9534\n",
      "Epoch 00006: val_loss did not improve from 0.47438\n",
      "\n",
      "Epoch 00006: ReduceLROnPlateau reducing learning rate to 8.999999772640877e-06.\n",
      "2140/2139 [==============================] - 904s 422ms/step - loss: 0.1401 - acc: 0.9534 - val_loss: 0.5662 - val_acc: 0.8581\n",
      "Epoch 7/20\n",
      "2140/2139 [==============================] - ETA: 0s - loss: 0.0953 - acc: 0.9677\n",
      "Epoch 00007: val_loss did not improve from 0.47438\n",
      "Restoring model weights from the end of the best epoch.\n",
      "2140/2139 [==============================] - 902s 422ms/step - loss: 0.0953 - acc: 0.9677 - val_loss: 0.5734 - val_acc: 0.8581\n",
      "Epoch 00007: early stopping\n"
     ]
    }
   ],
   "source": [
    "early_stop = EarlyStopping(monitor = 'val_loss', min_delta = 0.001, \n",
    "                            patience = 5, mode = 'min', verbose = 1,\n",
    "                            restore_best_weights = True)\n",
    "reduce_lr = ReduceLROnPlateau(monitor = 'val_loss', factor = 0.3, \n",
    "                               patience = 2, min_delta = 0.001, \n",
    "                               mode = 'min', verbose = 1) #reduced learning rate\n",
    "history = model.fit(\n",
    "     train_generator,\n",
    "     steps_per_epoch = STEPS_PER_EPOCH,\n",
    "     epochs = EPOCHS,\n",
    "     validation_data = validation_generator,\n",
    "     validation_steps = VALIDATION_STEPS,\n",
    "     callbacks = [model_save, early_stop, reduce_lr])\n"
   ]
  },
  {
   "cell_type": "code",
   "execution_count": 11,
   "metadata": {
    "execution": {
     "iopub.execute_input": "2021-01-27T18:33:42.412432Z",
     "iopub.status.busy": "2021-01-27T18:33:42.411520Z",
     "iopub.status.idle": "2021-01-27T18:33:45.140267Z",
     "shell.execute_reply": "2021-01-27T18:33:45.141316Z"
    },
    "papermill": {
     "duration": 6.9185,
     "end_time": "2021-01-27T18:33:45.141514",
     "exception": false,
     "start_time": "2021-01-27T18:33:38.223014",
     "status": "completed"
    },
    "tags": []
   },
   "outputs": [
    {
     "data": {
      "text/html": [
       "<div>\n",
       "<style scoped>\n",
       "    .dataframe tbody tr th:only-of-type {\n",
       "        vertical-align: middle;\n",
       "    }\n",
       "\n",
       "    .dataframe tbody tr th {\n",
       "        vertical-align: top;\n",
       "    }\n",
       "\n",
       "    .dataframe thead th {\n",
       "        text-align: right;\n",
       "    }\n",
       "</style>\n",
       "<table border=\"1\" class=\"dataframe\">\n",
       "  <thead>\n",
       "    <tr style=\"text-align: right;\">\n",
       "      <th></th>\n",
       "      <th>image_id</th>\n",
       "      <th>label</th>\n",
       "    </tr>\n",
       "  </thead>\n",
       "  <tbody>\n",
       "    <tr>\n",
       "      <th>0</th>\n",
       "      <td>2216849948.jpg</td>\n",
       "      <td>4</td>\n",
       "    </tr>\n",
       "  </tbody>\n",
       "</table>\n",
       "</div>"
      ],
      "text/plain": [
       "         image_id  label\n",
       "0  2216849948.jpg      4"
      ]
     },
     "execution_count": 11,
     "metadata": {},
     "output_type": "execute_result"
    }
   ],
   "source": [
    "model.save('./Xception_best_weights.h5')\n",
    "model = keras.models.load_model('./Xception_best_weights.h5')\n",
    "submission_file = pd.read_csv(os.path.join('../input/cassava-leaf-disease-classification/sample_submission.csv'))\n",
    "submission_file"
   ]
  },
  {
   "cell_type": "code",
   "execution_count": 12,
   "metadata": {
    "execution": {
     "iopub.execute_input": "2021-01-27T18:33:53.687873Z",
     "iopub.status.busy": "2021-01-27T18:33:53.687321Z",
     "iopub.status.idle": "2021-01-27T18:33:54.662350Z",
     "shell.execute_reply": "2021-01-27T18:33:54.662783Z"
    },
    "papermill": {
     "duration": 5.178206,
     "end_time": "2021-01-27T18:33:54.662960",
     "exception": false,
     "start_time": "2021-01-27T18:33:49.484754",
     "status": "completed"
    },
    "tags": []
   },
   "outputs": [
    {
     "data": {
      "text/html": [
       "<div>\n",
       "<style scoped>\n",
       "    .dataframe tbody tr th:only-of-type {\n",
       "        vertical-align: middle;\n",
       "    }\n",
       "\n",
       "    .dataframe tbody tr th {\n",
       "        vertical-align: top;\n",
       "    }\n",
       "\n",
       "    .dataframe thead th {\n",
       "        text-align: right;\n",
       "    }\n",
       "</style>\n",
       "<table border=\"1\" class=\"dataframe\">\n",
       "  <thead>\n",
       "    <tr style=\"text-align: right;\">\n",
       "      <th></th>\n",
       "      <th>image_id</th>\n",
       "      <th>label</th>\n",
       "    </tr>\n",
       "  </thead>\n",
       "  <tbody>\n",
       "    <tr>\n",
       "      <th>0</th>\n",
       "      <td>2216849948.jpg</td>\n",
       "      <td>4</td>\n",
       "    </tr>\n",
       "  </tbody>\n",
       "</table>\n",
       "</div>"
      ],
      "text/plain": [
       "         image_id  label\n",
       "0  2216849948.jpg      4"
      ]
     },
     "execution_count": 12,
     "metadata": {},
     "output_type": "execute_result"
    }
   ],
   "source": [
    "import numpy as np\n",
    "predictions = []\n",
    "for image_id in submission_file.image_id:\n",
    "    image = Image.open(os.path.join(f'../input/cassava-leaf-disease-classification/test_images/{image_id}'))\n",
    "    image = image.resize((TARGET_SIZE, TARGET_SIZE))\n",
    "    image = np.expand_dims(image, axis = 0)\n",
    "    predictions.append(np.argmax(model.predict(image)))\n",
    "\n",
    "submission_file['label'] = predictions\n",
    "submission_file"
   ]
  },
  {
   "cell_type": "code",
   "execution_count": 13,
   "metadata": {
    "execution": {
     "iopub.execute_input": "2021-01-27T18:34:03.396724Z",
     "iopub.status.busy": "2021-01-27T18:34:03.396174Z",
     "iopub.status.idle": "2021-01-27T18:34:03.603852Z",
     "shell.execute_reply": "2021-01-27T18:34:03.603383Z"
    },
    "papermill": {
     "duration": 4.389358,
     "end_time": "2021-01-27T18:34:03.603997",
     "exception": false,
     "start_time": "2021-01-27T18:33:59.214639",
     "status": "completed"
    },
    "tags": []
   },
   "outputs": [],
   "source": [
    "submission_file.to_csv('submission.csv', index = False)"
   ]
  },
  {
   "cell_type": "code",
   "execution_count": null,
   "metadata": {
    "papermill": {
     "duration": 4.117492,
     "end_time": "2021-01-27T18:34:12.735680",
     "exception": false,
     "start_time": "2021-01-27T18:34:08.618188",
     "status": "completed"
    },
    "tags": []
   },
   "outputs": [],
   "source": []
  }
 ],
 "metadata": {
  "kernelspec": {
   "display_name": "Python 3 (ipykernel)",
   "language": "python",
   "name": "python3"
  },
  "language_info": {
   "codemirror_mode": {
    "name": "ipython",
    "version": 3
   },
   "file_extension": ".py",
   "mimetype": "text/x-python",
   "name": "python",
   "nbconvert_exporter": "python",
   "pygments_lexer": "ipython3",
   "version": "3.9.10"
  },
  "papermill": {
   "duration": 6369.111775,
   "end_time": "2021-01-27T18:34:18.163958",
   "environment_variables": {},
   "exception": null,
   "input_path": "__notebook__.ipynb",
   "output_path": "__notebook__.ipynb",
   "parameters": {},
   "start_time": "2021-01-27T16:48:09.052183",
   "version": "2.1.0"
  }
 },
 "nbformat": 4,
 "nbformat_minor": 4
}
